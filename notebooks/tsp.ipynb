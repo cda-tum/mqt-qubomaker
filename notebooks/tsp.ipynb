{
 "cells": [
  {
   "cell_type": "markdown",
   "metadata": {},
   "source": [
    "# Initialisation"
   ]
  },
  {
   "cell_type": "code",
   "execution_count": null,
   "metadata": {},
   "outputs": [],
   "source": [
    "from __future__ import annotations\n",
    "\n",
    "import locale\n",
    "import random\n",
    "from pathlib import Path\n",
    "\n",
    "import mqt.qubomaker as qm\n",
    "from mqt.qubomaker import Graph\n",
    "from mqt.qubomaker import pathfinder as pf"
   ]
  },
  {
   "cell_type": "code",
   "execution_count": null,
   "metadata": {},
   "outputs": [],
   "source": [
    "with Path(\"input/graph\").open(encoding=locale.getpreferredencoding(False)) as file:\n",
    "    graph = Graph.read(file)\n",
    "graph.plot()"
   ]
  },
  {
   "cell_type": "markdown",
   "metadata": {},
   "source": [
    "# QUBO Construction"
   ]
  },
  {
   "cell_type": "markdown",
   "metadata": {},
   "source": [
    "### Parameters\n",
    "\n",
    "We begin by setting up our parameters for the QuboGenerator. The `PathFindingQuboGenerator` supports the following parameters:\n",
    "\n",
    "- `encoding_type`: One of `ONE_HOT`, `DOMAIN_WALL`, or `BINARY`. the encoding for the binary variables in  the QUBO formulation.\n",
    "- `n_paths`: The number of paths to be searched.\n",
    "- `max_path_length`: The maximum length of a path to be searched.\n",
    "- `loops`: Indicates, whether the searched path should be a loop."
   ]
  },
  {
   "cell_type": "code",
   "execution_count": null,
   "metadata": {},
   "outputs": [],
   "source": [
    "encoding_type = pf.EncodingType.DOMAIN_WALL\n",
    "n_paths = 1\n",
    "max_path_length = graph.n_vertices\n",
    "loops = True\n",
    "\n",
    "settings = pf.PathFindingQuboGeneratorSettings(encoding_type, n_paths, max_path_length, loops)"
   ]
  },
  {
   "cell_type": "markdown",
   "metadata": {},
   "source": [
    "Using these settings, we can now create a new `PathFindingQuboGenerator`:"
   ]
  },
  {
   "cell_type": "code",
   "execution_count": null,
   "metadata": {},
   "outputs": [],
   "source": [
    "generator = pf.PathFindingQuboGenerator(\n",
    "    objective_function=pf.MinimizePathLength(path_ids=[1]),\n",
    "    graph=graph,\n",
    "    settings=settings,\n",
    ")"
   ]
  },
  {
   "cell_type": "markdown",
   "metadata": {},
   "source": [
    "### Constraints\n",
    "\n",
    "We can add constraints to the QUBO generator with the `add_constraint` method. For this example, we add two constraints:\n",
    "\n",
    "1) `PathIsValid`: Enforces that the found path is actually valid (i.e. all edges in it exist).\n",
    "2) `PathContainsVerticesExactlyOnce`: Enforces that the given vertices appear exactly once in the path."
   ]
  },
  {
   "cell_type": "code",
   "execution_count": null,
   "metadata": {},
   "outputs": [],
   "source": [
    "generator.add_constraint(pf.PathIsValid(path_ids=[1]))\n",
    "generator.add_constraint(pf.PathContainsVerticesExactlyOnce(vertex_ids=graph.all_vertices, path_ids=[1]))"
   ]
  },
  {
   "cell_type": "markdown",
   "metadata": {},
   "source": [
    "### Generate QUBO Formulation\n",
    "\n",
    "There are several ways to generate the problem's QUBO formulation.\n",
    "\n",
    "`QuboGenerator.construct()` generates a simplified mathematical expression for the problem: "
   ]
  },
  {
   "cell_type": "code",
   "execution_count": null,
   "metadata": {},
   "outputs": [],
   "source": [
    "generator.construct()"
   ]
  },
  {
   "cell_type": "markdown",
   "metadata": {},
   "source": [
    "`QuboGenerator.construct_expansion()` generates an expanded formula of the form\n",
    "\n",
    "$C_{1,1}x_1 + C_{1,2}x_1x_2 + C_{1,3}x_1x_3 + ... + C_{n-1,n}x_{n-1}x_n$"
   ]
  },
  {
   "cell_type": "code",
   "execution_count": null,
   "metadata": {},
   "outputs": [],
   "source": [
    "generator.construct_expansion()"
   ]
  },
  {
   "cell_type": "markdown",
   "metadata": {},
   "source": [
    "`QuboGenerator.construct_qubo_matrix()` generates the QUBO formulation as a QUBO matrix $Q$ such that the QUBO problem can be formulated as\n",
    "\n",
    "$$\\mathbf{x}^* = \\argmin_\\mathbf{x} \\mathbf{x}^T Q \\mathbf{x}$$"
   ]
  },
  {
   "cell_type": "code",
   "execution_count": null,
   "metadata": {},
   "outputs": [],
   "source": [
    "A = generator.construct_qubo_matrix()\n",
    "qm.print_matrix(A)"
   ]
  },
  {
   "cell_type": "markdown",
   "metadata": {},
   "source": [
    "# Test Results"
   ]
  },
  {
   "cell_type": "markdown",
   "metadata": {},
   "source": [
    "### Brute Force Optimization\n",
    "\n",
    "We offer a naive brute-force optimization method to test simple QUBO formulations. It will generate the optimal assignment vector $\\mathbf{x}^*$ which can be passed to the method `QuboGenerator.decode_bit_array(...)` to translate it into a readable solution of the problem (in this case a list of paths)."
   ]
  },
  {
   "cell_type": "code",
   "execution_count": null,
   "metadata": {},
   "outputs": [],
   "source": [
    "import numpy as np\n",
    "\n",
    "(best_test, best_score) = qm.optimize_classically(A)\n",
    "\n",
    "x = np.array(best_test)\n",
    "pth = generator.decode_bit_array(best_test)\n",
    "print(pth)"
   ]
  },
  {
   "cell_type": "markdown",
   "metadata": {},
   "source": [
    "### Operator: Classical Eigensolver\n",
    "\n",
    "The method `QuboGenerator.construct_operator()` generates the QUBO formulation as a quantum operator that can be used for optimuzation. Using qiskit, we can compute its minimal eigenvalue using classical methods or quantum algorithms."
   ]
  },
  {
   "cell_type": "code",
   "execution_count": null,
   "metadata": {},
   "outputs": [],
   "source": [
    "from typing import TYPE_CHECKING\n",
    "\n",
    "import numpy as np\n",
    "import numpy.typing as npt\n",
    "from qiskit.result import QuasiDistribution\n",
    "from qiskit_algorithms.minimum_eigensolvers import NumPyMinimumEigensolver\n",
    "\n",
    "if TYPE_CHECKING:\n",
    "    from qiskit.quantum_info import Statevector\n",
    "\n",
    "\n",
    "def bitfield(n: int, width: int) -> list[int]:\n",
    "    result = np.binary_repr(n, width)\n",
    "    return [int(digit) for digit in result]\n",
    "\n",
    "\n",
    "def sample_most_likely(\n",
    "    state_vector: QuasiDistribution | Statevector | dict[str, float],\n",
    ") -> npt.NDArray[np.int_ | np.float64]:\n",
    "    \"\"\"Compute the most likely binary string from state vector.\n",
    "    Args:\n",
    "        state_vector: State vector or quasi-distribution.\n",
    "\n",
    "    Returns:\n",
    "        Binary string as an array of ints.\n",
    "    \"\"\"\n",
    "    values = (\n",
    "        list(state_vector.values())\n",
    "        if isinstance(state_vector, QuasiDistribution)\n",
    "        else [state_vector[key] for key in state_vector]\n",
    "        if isinstance(state_vector, dict)\n",
    "        else state_vector\n",
    "    )\n",
    "    n = int(np.log2(len(values)))\n",
    "    k = np.argmax(np.abs(values))\n",
    "    x = bitfield(k, n)\n",
    "    x.reverse()\n",
    "    return np.asarray(x)\n",
    "\n",
    "\n",
    "op = generator.construct_operator()\n",
    "\n",
    "npme = NumPyMinimumEigensolver()\n",
    "result = npme.compute_minimum_eigenvalue(op)\n",
    "x = sample_most_likely(result.eigenstate)\n",
    "print(x)\n",
    "print(generator.decode_bit_array(x))\n",
    "print(result.eigenvalue)"
   ]
  },
  {
   "cell_type": "markdown",
   "metadata": {},
   "source": [
    "## Quantum Circuits"
   ]
  },
  {
   "cell_type": "markdown",
   "metadata": {},
   "source": [
    "The constructed operator can be used to create quantum circuits that solve the optimization problem.\n",
    "\n",
    "### QAOA"
   ]
  },
  {
   "cell_type": "code",
   "execution_count": null,
   "metadata": {},
   "outputs": [],
   "source": [
    "seed = random.randint(10000, 20000)\n",
    "(qaoa, op) = generator.construct_qaoa(seed=seed)\n",
    "\n",
    "result = qaoa.compute_minimum_eigenvalue(op)\n",
    "x = sample_most_likely(result.eigenstate)\n",
    "print(generator.decode_bit_array(x))\n",
    "print(result.eigenvalue)"
   ]
  },
  {
   "cell_type": "markdown",
   "metadata": {},
   "source": [
    "# Other Features"
   ]
  },
  {
   "cell_type": "markdown",
   "metadata": {},
   "source": [
    "_Use the JSON input format_"
   ]
  },
  {
   "cell_type": "code",
   "execution_count": null,
   "metadata": {},
   "outputs": [],
   "source": [
    "with Path.open(\"input/tsp.json\") as file:\n",
    "    generator_new = pf.PathFindingQuboGenerator.from_json(file.read(), graph)\n",
    "\n",
    "A = generator_new.construct_qubo_matrix()\n",
    "(best_test, best_score) = qm.optimize_classically(A)\n",
    "\n",
    "pth = generator_new.decode_bit_array(best_test)\n",
    "print(pth)"
   ]
  },
  {
   "cell_type": "markdown",
   "metadata": {},
   "source": [
    "_Use Encoding suggestion_\n",
    "\n",
    "The `PathFindingQuboGenerator` supports the suggestion of the optimal encoding for a given problem instance, based on the number of required binary variables. "
   ]
  },
  {
   "cell_type": "code",
   "execution_count": null,
   "metadata": {},
   "outputs": [],
   "source": [
    "with Path.open(\"input/tsp.json\") as file:\n",
    "    print(pf.PathFindingQuboGenerator.suggest_encoding(file.read(), graph))"
   ]
  },
  {
   "cell_type": "markdown",
   "metadata": {},
   "source": [
    "## Different constraints\n",
    "\n",
    "_Also define the starting vertex of the path_"
   ]
  },
  {
   "cell_type": "code",
   "execution_count": null,
   "metadata": {},
   "outputs": [],
   "source": [
    "generator_new = pf.PathFindingQuboGenerator(pf.MinimizePathLength([1]), graph, settings)\n",
    "generator_new.add_constraint(pf.PathIsValid([1]))\n",
    "generator_new.add_constraint(pf.PathContainsVerticesExactlyOnce(graph.all_vertices, [1]))\n",
    "\n",
    "\n",
    "generator_new.add_constraint(pf.PathStartsAt([3], 1))\n",
    "\n",
    "\n",
    "A = generator_new.construct_qubo_matrix()\n",
    "(best_test, best_score) = qm.optimize_classically(A)\n",
    "\n",
    "pth = generator_new.decode_bit_array(best_test)\n",
    "print(pth)"
   ]
  },
  {
   "cell_type": "markdown",
   "metadata": {},
   "source": [
    "_Find the shortest paths $\\pi_1$ and $\\pi_2$ from $s_p$ to $t_p$ respectively that don't intersect_"
   ]
  },
  {
   "cell_type": "code",
   "execution_count": null,
   "metadata": {},
   "outputs": [],
   "source": [
    "(s1, t1) = 1, 5\n",
    "(s2, t2) = 2, 6\n",
    "\n",
    "settings = pf.PathFindingQuboGeneratorSettings(encoding_type, n_paths=2, max_path_length=max_path_length, loops=True)\n",
    "generator_new = pf.PathFindingQuboGenerator(pf.MinimizePathLength([1, 2]), graph, settings)\n",
    "generator_new.add_constraint(pf.PathIsValid([1, 2]))\n",
    "generator_new.add_constraint(pf.PathStartsAt([s1], 1))\n",
    "generator_new.add_constraint(pf.PathStartsAt([s2], 2))\n",
    "generator_new.add_constraint(pf.PathEndsAt([t1], 1))\n",
    "generator_new.add_constraint(pf.PathEndsAt([t2], 2))\n",
    "generator_new.add_constraint(pf.PathsShareNoVertices(1, 2))"
   ]
  }
 ],
 "metadata": {
  "kernelspec": {
   "display_name": "mqt-test",
   "language": "python",
   "name": "python3"
  },
  "language_info": {
   "codemirror_mode": {
    "name": "ipython",
    "version": 3
   },
   "file_extension": ".py",
   "mimetype": "text/x-python",
   "name": "python",
   "nbconvert_exporter": "python",
   "pygments_lexer": "ipython3"
  }
 },
 "nbformat": 4,
 "nbformat_minor": 2
}
